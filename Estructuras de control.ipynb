{
 "cells": [
  {
   "cell_type": "code",
   "execution_count": null,
   "id": "694fd088",
   "metadata": {},
   "outputs": [],
   "source": [
    "# Indentacion\n",
    "\n",
    "# ; no existe en lineas de codigp\n",
    "# {} no existe bloques de codigo  \n",
    "# () no existe en funciones\n",
    "# \n",
    "\n",
    "\n",
    "# indentado - Espacio | 4 Espacio obligados"
   ]
  },
  {
   "cell_type": "markdown",
   "id": "7a909f80",
   "metadata": {},
   "source": [
    "# FOR"
   ]
  },
  {
   "cell_type": "code",
   "execution_count": null,
   "id": "e7995ebe",
   "metadata": {},
   "outputs": [],
   "source": [
    "for (i=0;i<=10)"
   ]
  },
  {
   "cell_type": "code",
   "execution_count": null,
   "id": "7f33790f",
   "metadata": {},
   "outputs": [],
   "source": [
    "inico= int(input(\"ingresa el inicio\"))\n",
    "final= int(input(\"ingresa el inicio\"))\n"
   ]
  },
  {
   "cell_type": "code",
   "execution_count": 17,
   "id": "17e77b64",
   "metadata": {},
   "outputs": [
    {
     "name": "stdout",
     "output_type": "stream",
     "text": [
      "En que tabla quieres inciar? 1\n",
      "En que tabla quieres terminar? 3\n",
      "Desde que numero quieres que inicie? 1\n",
      "Desde que numero quieres que termine? 5\n",
      "1 X 1 = 1 \n",
      "1 X 2 = 2 \n",
      "1 X 3 = 3 \n",
      "1 X 4 = 4 \n",
      "1 X 5 = 5 \n",
      "\n",
      "2 X 1 = 2 \n",
      "2 X 2 = 4 \n",
      "2 X 3 = 6 \n",
      "2 X 4 = 8 \n",
      "2 X 5 = 10 \n",
      "\n",
      "3 X 1 = 3 \n",
      "3 X 2 = 6 \n",
      "3 X 3 = 9 \n",
      "3 X 4 = 12 \n",
      "3 X 5 = 15 \n",
      "\n"
     ]
    }
   ],
   "source": [
    "# Tabla de multiplicdar infinita\n",
    "\n",
    "# inicio_rango = 1\n",
    "# final_rango = 3\n",
    "# inicio_tabla = 5\n",
    "# final_tabla = 7\n",
    "\n",
    "inicio_rango = int(input(\"En que tabla quieres inciar? \"))\n",
    "final_rango = int(input(\"En que tabla quieres terminar? \"))\n",
    "inicio_tabla = int(input(\"Desde que numero quieres que inicie? \"))\n",
    "final_tabla = int(input(\"Desde que numero quieres que termine? \"))\n",
    "print()\n",
    "\n",
    " \n",
    "\n",
    "for i in range(inicio_rango, final_rango+1):\n",
    "    for j in range(inicio_tabla, final_tabla+1):\n",
    "        res= i*j;\n",
    "        print(f\"{i} X {j} = {res} \");\n",
    "    print()"
   ]
  },
  {
   "cell_type": "code",
   "execution_count": null,
   "id": "ba475231",
   "metadata": {},
   "outputs": [],
   "source": []
  },
  {
   "cell_type": "code",
   "execution_count": null,
   "id": "7e136650",
   "metadata": {},
   "outputs": [],
   "source": []
  }
 ],
 "metadata": {
  "kernelspec": {
   "display_name": "Python 3 (ipykernel)",
   "language": "python",
   "name": "python3"
  },
  "language_info": {
   "codemirror_mode": {
    "name": "ipython",
    "version": 3
   },
   "file_extension": ".py",
   "mimetype": "text/x-python",
   "name": "python",
   "nbconvert_exporter": "python",
   "pygments_lexer": "ipython3",
   "version": "3.11.4"
  }
 },
 "nbformat": 4,
 "nbformat_minor": 5
}
