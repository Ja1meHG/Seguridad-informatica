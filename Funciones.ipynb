{
 "cells": [
  {
   "cell_type": "code",
   "execution_count": 1,
   "id": "11af4730",
   "metadata": {},
   "outputs": [
    {
     "name": "stdout",
     "output_type": "stream",
     "text": [
      "Nombre: Jaime Hernandez Gonzalez\n",
      "Edad: 20 años\n",
      "Ciudad: Cancun\n",
      "Altura: 1.78 m\n",
      "Peso: 60 kg\n",
      "IMC: 18.94\n"
     ]
    }
   ],
   "source": [
    "from mipaquete import modulo1\n",
    "\n",
    "persona = {\n",
    "    \"nombre\": \"Jaime\",\n",
    "    \"ap_paterno\": \"Hernandez\",\n",
    "    \"ap_materno\": \"Gonzalez\",\n",
    "    \"edad\": 20,\n",
    "    \"ciudad\": \"Cancun\",\n",
    "    \"altura\": 1.78,\n",
    "    \"peso\": 60\n",
    "}\n",
    "\n",
    "# Utiliza la información del diccionario \"persona\"\n",
    "nombre = persona[\"nombre\"]\n",
    "ap_paterno = persona[\"ap_paterno\"]\n",
    "ap_materno = persona[\"ap_materno\"]\n",
    "edad = persona[\"edad\"]\n",
    "ciudad = persona[\"ciudad\"]\n",
    "altura = persona[\"altura\"]\n",
    "peso = persona[\"peso\"]\n",
    "\n",
    "imc = modulo1.calcular_imc(peso, altura)\n",
    "\n",
    "print(f\"Nombre: {nombre} {ap_paterno} {ap_materno}\")\n",
    "print(f\"Edad: {edad} años\")\n",
    "print(f\"Ciudad: {ciudad}\")\n",
    "print(f\"Altura: {altura} m\")\n",
    "print(f\"Peso: {peso} kg\")\n",
    "print(f\"IMC: {imc:.2f}\")"
   ]
  },
  {
   "cell_type": "code",
   "execution_count": 3,
   "id": "bcbfa636",
   "metadata": {
    "scrolled": true
   },
   "outputs": [
    {
     "name": "stdout",
     "output_type": "stream",
     "text": [
      "Ingresa tu nombre: jaa\n",
      "Ingresa el mes de tu nacimiento: enero\n",
      "Ingresa el día de tu nacimiento: 20\n",
      "Ingresa el año de tu nacimiento: 2003\n",
      "Hola jaa, tu signo zodiacal occidental es Mes no válido. y tu signo zodiacal chino es el Conejo.\n"
     ]
    }
   ],
   "source": [
    "from mipaquete import modulo2\n",
    "\n",
    "nombre = input(\"Ingresa tu nombre: \")\n",
    "mes_nacimiento = input(\"Ingresa el mes de tu nacimiento: \")\n",
    "dia_nacimiento = input(\"Ingresa el día de tu nacimiento: \")\n",
    "año_nacimiento = input(\"Ingresa el año de tu nacimiento: \")\n",
    "\n",
    "signo_occidental, signo_chino = modulo2.obtener_signo_zodiacal(dia_nacimiento, mes_nacimiento, año_nacimiento)\n",
    "\n",
    "print(f\"Hola {nombre}, tu signo zodiacal occidental es {signo_occidental} y tu signo zodiacal chino es el {signo_chino}.\")\n"
   ]
  },
  {
   "cell_type": "code",
   "execution_count": 4,
   "id": "b0e32608",
   "metadata": {
    "scrolled": true
   },
   "outputs": [
    {
     "name": "stdout",
     "output_type": "stream",
     "text": [
      "Ingresa el número de tabla que deseas generar: 5\n",
      "5 x 1 = 5\n",
      "5 x 2 = 10\n",
      "5 x 3 = 15\n",
      "5 x 4 = 20\n",
      "5 x 5 = 25\n",
      "5 x 6 = 30\n",
      "5 x 7 = 35\n",
      "5 x 8 = 40\n",
      "5 x 9 = 45\n",
      "5 x 10 = 50\n"
     ]
    }
   ],
   "source": [
    "from mipaquete.modulo3 import tabla_de_multiplicar\n",
    "\n",
    "numero_tabla = int(input(\"Ingresa el número de tabla que deseas generar: \"))\n",
    "\n",
    "tabla_de_multiplicar(numero_tabla, 10) "
   ]
  },
  {
   "cell_type": "code",
   "execution_count": null,
   "id": "fe38c0bb",
   "metadata": {},
   "outputs": [],
   "source": []
  }
 ],
 "metadata": {
  "kernelspec": {
   "display_name": "Python 3 (ipykernel)",
   "language": "python",
   "name": "python3"
  },
  "language_info": {
   "codemirror_mode": {
    "name": "ipython",
    "version": 3
   },
   "file_extension": ".py",
   "mimetype": "text/x-python",
   "name": "python",
   "nbconvert_exporter": "python",
   "pygments_lexer": "ipython3",
   "version": "3.11.4"
  }
 },
 "nbformat": 4,
 "nbformat_minor": 5
}
